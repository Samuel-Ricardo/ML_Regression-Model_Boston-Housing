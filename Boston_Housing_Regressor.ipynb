{
  "nbformat": 4,
  "nbformat_minor": 0,
  "metadata": {
    "colab": {
      "provenance": []
    },
    "kernelspec": {
      "name": "python3",
      "display_name": "Python 3"
    },
    "language_info": {
      "name": "python"
    }
  },
  "cells": [
    {
      "cell_type": "markdown",
      "source": [
        "# Setup and Install Deps"
      ],
      "metadata": {
        "id": "JVruoWf22InA"
      }
    },
    {
      "cell_type": "markdown",
      "source": [
        "https://www.python.org/\n",
        "\n",
        "https://www.tensorflow.org/?hl=pt-br\n",
        "\n",
        "https://keras.io/\n",
        "\n",
        "https://www.anaconda.com/"
      ],
      "metadata": {
        "id": "iKB1fgBx19c4"
      }
    },
    {
      "cell_type": "code",
      "execution_count": null,
      "metadata": {
        "id": "CAmos9mg01cM",
        "colab": {
          "base_uri": "https://localhost:8080/"
        },
        "outputId": "7d051579-8ef7-40cf-8f53-3e2db5be4f24"
      },
      "outputs": [
        {
          "output_type": "stream",
          "name": "stdout",
          "text": [
            "\u001b[31mERROR: pip's dependency resolver does not currently take into account all the packages that are installed. This behaviour is the source of the following dependency conflicts.\n",
            "tf-keras 2.15.1 requires tensorflow<2.16,>=2.15, but you have tensorflow 2.16.1 which is incompatible.\u001b[0m\u001b[31m\n",
            "\u001b[0m\u001b[31mERROR: pip's dependency resolver does not currently take into account all the packages that are installed. This behaviour is the source of the following dependency conflicts.\n",
            "cudf-cu12 24.4.1 requires pandas<2.2.2dev0,>=2.0, but you have pandas 2.2.2 which is incompatible.\n",
            "google-colab 1.0.0 requires pandas==2.0.3, but you have pandas 2.2.2 which is incompatible.\u001b[0m\u001b[31m\n",
            "\u001b[0m"
          ]
        }
      ],
      "source": [
        "!pip install -q -U tensorflow\n",
        "!pip install -q -U keras\n",
        "!pip install -q -U numpy\n",
        "!pip install -q -U pandas\n",
        "!pip install -q -U tensorflow-addons\n",
        "!pip install -q -U keras-utils\n",
        "\n",
        "#--use-deprecated=legacy-resolver\n",
        "\n",
        "#!pip install -q -U tensorflow==2.15\n",
        "#!pip install -q -U keras==2.3.1\n",
        "#!pip install -q -U numpy pandas==2.0.3 tensorflow-addons keras-utils\n",
        "\n"
      ]
    },
    {
      "cell_type": "code",
      "source": [
        "import os\n",
        "import keras\n",
        "import numpy as np\n",
        "import cv2\n",
        "import PIL\n",
        "import glob\n",
        "import matplotlib.pyplot as plt\n",
        "import tensorflow as tf\n",
        "#import keras.layers.convolutional as conv\n",
        "from keras.layers import Conv2D as conv\n",
        "from math import sqrt\n",
        "from PIL import Image\n",
        "from tensorflow import keras\n",
        "from numpy import mean\n",
        "from keras.models import Sequential, load_model\n",
        "from tensorflow.keras import regularizers, layers, Model\n",
        "from keras.preprocessing import image\n",
        "from keras.callbacks import LearningRateScheduler, ReduceLROnPlateau, EarlyStopping\n",
        "#from keras.utils.vis_utils import plot_model\n",
        "from keras.utils import plot_model\n",
        "from keras import backend as B\n",
        "from tensorflow.keras.layers import BatchNormalization, MaxPool2D, ReLU\n",
        "from tensorflow.keras import Model\n",
        "from keras.layers import Dense, Add, Conv1D, Conv2D, MaxPool2D, Flatten, BatchNormalization, Dropout, ZeroPadding2D, MaxPooling2D, Activation, Input, UpSampling2D, AveragePooling2D, Reshape, InputLayer, SeparableConv2D\n",
        "from tensorflow.keras.optimizers import Adam, Nadam, RMSprop, SGD\n",
        "from keras.regularizers import l2\n",
        "from keras.initializers import glorot_uniform\n",
        "from skimage.feature import peak_local_max\n",
        "from skimage.morphology import disk\n",
        "from skimage.segmentation import watershed\n",
        "from skimage.exposure import equalize_adapthist\n",
        "from skimage.io import imread\n",
        "from skimage.color import rgb2gray\n",
        "from skimage.filters import sobel, rank, median\n",
        "from skimage.util import img_as_ubyte\n",
        "from scipy import ndimage as ndi\n",
        "from scipy.ndimage import distance_transform_edt\n",
        "import tensorflow_addons as tfa\n",
        "from sklearn.model_selection import train_test_split\n",
        "from sklearn.utils import class_weight\n",
        "from sklearn.metrics import confusion_matrix, accuracy_score\n",
        "from tensorflow.keras.metrics import *\n",
        "from keras import backend as K\n",
        "from sklearn.metrics import precision_recall_fscore_support, f1_score"
      ],
      "metadata": {
        "id": "Jcq3I-Fv2Gbg",
        "colab": {
          "base_uri": "https://localhost:8080/",
          "height": 356
        },
        "outputId": "be077af4-9ba8-4b0d-a65f-4ce52a27fa90"
      },
      "execution_count": null,
      "outputs": [
        {
          "output_type": "error",
          "ename": "AttributeError",
          "evalue": "module 'numpy.linalg._umath_linalg' has no attribute '_ilp64'",
          "traceback": [
            "\u001b[0;31m---------------------------------------------------------------------------\u001b[0m",
            "\u001b[0;31mAttributeError\u001b[0m                            Traceback (most recent call last)",
            "\u001b[0;32m<ipython-input-14-ece3373e49c7>\u001b[0m in \u001b[0;36m<cell line: 28>\u001b[0;34m()\u001b[0m\n\u001b[1;32m     26\u001b[0m \u001b[0;32mfrom\u001b[0m \u001b[0mkeras\u001b[0m\u001b[0;34m.\u001b[0m\u001b[0mregularizers\u001b[0m \u001b[0;32mimport\u001b[0m \u001b[0ml2\u001b[0m\u001b[0;34m\u001b[0m\u001b[0;34m\u001b[0m\u001b[0m\n\u001b[1;32m     27\u001b[0m \u001b[0;32mfrom\u001b[0m \u001b[0mkeras\u001b[0m\u001b[0;34m.\u001b[0m\u001b[0minitializers\u001b[0m \u001b[0;32mimport\u001b[0m \u001b[0mglorot_uniform\u001b[0m\u001b[0;34m\u001b[0m\u001b[0;34m\u001b[0m\u001b[0m\n\u001b[0;32m---> 28\u001b[0;31m \u001b[0;32mfrom\u001b[0m \u001b[0mskimage\u001b[0m\u001b[0;34m.\u001b[0m\u001b[0mfeature\u001b[0m \u001b[0;32mimport\u001b[0m \u001b[0mpeak_local_max\u001b[0m\u001b[0;34m\u001b[0m\u001b[0;34m\u001b[0m\u001b[0m\n\u001b[0m\u001b[1;32m     29\u001b[0m \u001b[0;32mfrom\u001b[0m \u001b[0mskimage\u001b[0m\u001b[0;34m.\u001b[0m\u001b[0mmorphology\u001b[0m \u001b[0;32mimport\u001b[0m \u001b[0mdisk\u001b[0m\u001b[0;34m\u001b[0m\u001b[0;34m\u001b[0m\u001b[0m\n\u001b[1;32m     30\u001b[0m \u001b[0;32mfrom\u001b[0m \u001b[0mskimage\u001b[0m\u001b[0;34m.\u001b[0m\u001b[0msegmentation\u001b[0m \u001b[0;32mimport\u001b[0m \u001b[0mwatershed\u001b[0m\u001b[0;34m\u001b[0m\u001b[0;34m\u001b[0m\u001b[0m\n",
            "\u001b[0;32m/usr/local/lib/python3.10/dist-packages/skimage/feature/__init__.py\u001b[0m in \u001b[0;36m<module>\u001b[0;34m\u001b[0m\n\u001b[1;32m      2\u001b[0m \u001b[0;34m\u001b[0m\u001b[0m\n\u001b[1;32m      3\u001b[0m \u001b[0;32mfrom\u001b[0m \u001b[0;34m.\u001b[0m\u001b[0m_canny\u001b[0m \u001b[0;32mimport\u001b[0m \u001b[0mcanny\u001b[0m\u001b[0;34m\u001b[0m\u001b[0;34m\u001b[0m\u001b[0m\n\u001b[0;32m----> 4\u001b[0;31m \u001b[0;32mfrom\u001b[0m \u001b[0;34m.\u001b[0m\u001b[0m_cascade\u001b[0m \u001b[0;32mimport\u001b[0m \u001b[0mCascade\u001b[0m\u001b[0;34m\u001b[0m\u001b[0;34m\u001b[0m\u001b[0m\n\u001b[0m\u001b[1;32m      5\u001b[0m \u001b[0;32mfrom\u001b[0m \u001b[0;34m.\u001b[0m\u001b[0m_daisy\u001b[0m \u001b[0;32mimport\u001b[0m \u001b[0mdaisy\u001b[0m\u001b[0;34m\u001b[0m\u001b[0;34m\u001b[0m\u001b[0m\n\u001b[1;32m      6\u001b[0m \u001b[0;32mfrom\u001b[0m \u001b[0;34m.\u001b[0m\u001b[0m_hog\u001b[0m \u001b[0;32mimport\u001b[0m \u001b[0mhog\u001b[0m\u001b[0;34m\u001b[0m\u001b[0;34m\u001b[0m\u001b[0m\n",
            "\u001b[0;32m/usr/local/lib/python3.10/dist-packages/skimage/feature/_cascade.pyx\u001b[0m in \u001b[0;36minit skimage.feature._cascade\u001b[0;34m()\u001b[0m\n",
            "\u001b[0;32m/usr/local/lib/python3.10/dist-packages/skimage/transform/__init__.py\u001b[0m in \u001b[0;36m<module>\u001b[0;34m\u001b[0m\n\u001b[1;32m      2\u001b[0m                               \u001b[0mprobabilistic_hough_line\u001b[0m\u001b[0;34m,\u001b[0m \u001b[0mhough_circle\u001b[0m\u001b[0;34m,\u001b[0m\u001b[0;34m\u001b[0m\u001b[0;34m\u001b[0m\u001b[0m\n\u001b[1;32m      3\u001b[0m                               hough_circle_peaks, hough_ellipse)\n\u001b[0;32m----> 4\u001b[0;31m from .radon_transform import (radon, iradon, iradon_sart,\n\u001b[0m\u001b[1;32m      5\u001b[0m                               order_angles_golden_ratio)\n\u001b[1;32m      6\u001b[0m \u001b[0;32mfrom\u001b[0m \u001b[0;34m.\u001b[0m\u001b[0mfinite_radon_transform\u001b[0m \u001b[0;32mimport\u001b[0m \u001b[0mfrt2\u001b[0m\u001b[0;34m,\u001b[0m \u001b[0mifrt2\u001b[0m\u001b[0;34m\u001b[0m\u001b[0;34m\u001b[0m\u001b[0m\n",
            "\u001b[0;32m/usr/local/lib/python3.10/dist-packages/skimage/transform/radon_transform.py\u001b[0m in \u001b[0;36m<module>\u001b[0;34m\u001b[0m\n\u001b[1;32m      1\u001b[0m \u001b[0;32mimport\u001b[0m \u001b[0mnumpy\u001b[0m \u001b[0;32mas\u001b[0m \u001b[0mnp\u001b[0m\u001b[0;34m\u001b[0m\u001b[0;34m\u001b[0m\u001b[0m\n\u001b[1;32m      2\u001b[0m \u001b[0;34m\u001b[0m\u001b[0m\n\u001b[0;32m----> 3\u001b[0;31m \u001b[0;32mfrom\u001b[0m \u001b[0mscipy\u001b[0m\u001b[0;34m.\u001b[0m\u001b[0minterpolate\u001b[0m \u001b[0;32mimport\u001b[0m \u001b[0minterp1d\u001b[0m\u001b[0;34m\u001b[0m\u001b[0;34m\u001b[0m\u001b[0m\n\u001b[0m\u001b[1;32m      4\u001b[0m \u001b[0;32mfrom\u001b[0m \u001b[0mscipy\u001b[0m\u001b[0;34m.\u001b[0m\u001b[0mconstants\u001b[0m \u001b[0;32mimport\u001b[0m \u001b[0mgolden_ratio\u001b[0m\u001b[0;34m\u001b[0m\u001b[0;34m\u001b[0m\u001b[0m\n\u001b[1;32m      5\u001b[0m \u001b[0;32mfrom\u001b[0m \u001b[0mscipy\u001b[0m\u001b[0;34m.\u001b[0m\u001b[0mfft\u001b[0m \u001b[0;32mimport\u001b[0m \u001b[0mfft\u001b[0m\u001b[0;34m,\u001b[0m \u001b[0mifft\u001b[0m\u001b[0;34m,\u001b[0m \u001b[0mfftfreq\u001b[0m\u001b[0;34m,\u001b[0m \u001b[0mfftshift\u001b[0m\u001b[0;34m\u001b[0m\u001b[0;34m\u001b[0m\u001b[0m\n",
            "\u001b[0;32m/usr/local/lib/python3.10/dist-packages/scipy/interpolate/__init__.py\u001b[0m in \u001b[0;36m<module>\u001b[0;34m\u001b[0m\n\u001b[1;32m    165\u001b[0m \u001b[0;34m(\u001b[0m\u001b[0mshould\u001b[0m \u001b[0;32mnot\u001b[0m \u001b[0mbe\u001b[0m \u001b[0mused\u001b[0m \u001b[0;32min\u001b[0m \u001b[0mnew\u001b[0m \u001b[0mcode\u001b[0m\u001b[0;34m)\u001b[0m\u001b[0;34m.\u001b[0m\u001b[0;34m\u001b[0m\u001b[0;34m\u001b[0m\u001b[0m\n\u001b[1;32m    166\u001b[0m \"\"\"\n\u001b[0;32m--> 167\u001b[0;31m \u001b[0;32mfrom\u001b[0m \u001b[0;34m.\u001b[0m\u001b[0m_interpolate\u001b[0m \u001b[0;32mimport\u001b[0m \u001b[0;34m*\u001b[0m\u001b[0;34m\u001b[0m\u001b[0;34m\u001b[0m\u001b[0m\n\u001b[0m\u001b[1;32m    168\u001b[0m \u001b[0;32mfrom\u001b[0m \u001b[0;34m.\u001b[0m\u001b[0m_fitpack_py\u001b[0m \u001b[0;32mimport\u001b[0m \u001b[0;34m*\u001b[0m\u001b[0;34m\u001b[0m\u001b[0;34m\u001b[0m\u001b[0m\n\u001b[1;32m    169\u001b[0m \u001b[0;34m\u001b[0m\u001b[0m\n",
            "\u001b[0;32m/usr/local/lib/python3.10/dist-packages/scipy/interpolate/_interpolate.py\u001b[0m in \u001b[0;36m<module>\u001b[0;34m\u001b[0m\n\u001b[1;32m     10\u001b[0m \u001b[0;32mfrom\u001b[0m \u001b[0mscipy\u001b[0m\u001b[0;34m.\u001b[0m\u001b[0mspecial\u001b[0m \u001b[0;32mimport\u001b[0m \u001b[0mcomb\u001b[0m\u001b[0;34m\u001b[0m\u001b[0;34m\u001b[0m\u001b[0m\n\u001b[1;32m     11\u001b[0m \u001b[0;34m\u001b[0m\u001b[0m\n\u001b[0;32m---> 12\u001b[0;31m \u001b[0;32mfrom\u001b[0m \u001b[0;34m.\u001b[0m \u001b[0;32mimport\u001b[0m \u001b[0m_fitpack_py\u001b[0m\u001b[0;34m\u001b[0m\u001b[0;34m\u001b[0m\u001b[0m\n\u001b[0m\u001b[1;32m     13\u001b[0m \u001b[0;32mfrom\u001b[0m \u001b[0;34m.\u001b[0m \u001b[0;32mimport\u001b[0m \u001b[0mdfitpack\u001b[0m\u001b[0;34m\u001b[0m\u001b[0;34m\u001b[0m\u001b[0m\n\u001b[1;32m     14\u001b[0m \u001b[0;32mfrom\u001b[0m \u001b[0;34m.\u001b[0m\u001b[0m_polyint\u001b[0m \u001b[0;32mimport\u001b[0m \u001b[0m_Interpolator1D\u001b[0m\u001b[0;34m\u001b[0m\u001b[0;34m\u001b[0m\u001b[0m\n",
            "\u001b[0;32m/usr/local/lib/python3.10/dist-packages/scipy/interpolate/_fitpack_py.py\u001b[0m in \u001b[0;36m<module>\u001b[0;34m\u001b[0m\n\u001b[1;32m      8\u001b[0m \u001b[0;32mfrom\u001b[0m \u001b[0;34m.\u001b[0m\u001b[0m_fitpack_impl\u001b[0m \u001b[0;32mimport\u001b[0m \u001b[0mbisplrep\u001b[0m\u001b[0;34m,\u001b[0m \u001b[0mbisplev\u001b[0m\u001b[0;34m,\u001b[0m \u001b[0mdblint\u001b[0m  \u001b[0;31m# noqa: F401\u001b[0m\u001b[0;34m\u001b[0m\u001b[0;34m\u001b[0m\u001b[0m\n\u001b[1;32m      9\u001b[0m \u001b[0;32mfrom\u001b[0m \u001b[0;34m.\u001b[0m \u001b[0;32mimport\u001b[0m \u001b[0m_fitpack_impl\u001b[0m \u001b[0;32mas\u001b[0m \u001b[0m_impl\u001b[0m\u001b[0;34m\u001b[0m\u001b[0;34m\u001b[0m\u001b[0m\n\u001b[0;32m---> 10\u001b[0;31m \u001b[0;32mfrom\u001b[0m \u001b[0;34m.\u001b[0m\u001b[0m_bsplines\u001b[0m \u001b[0;32mimport\u001b[0m \u001b[0mBSpline\u001b[0m\u001b[0;34m\u001b[0m\u001b[0;34m\u001b[0m\u001b[0m\n\u001b[0m\u001b[1;32m     11\u001b[0m \u001b[0;34m\u001b[0m\u001b[0m\n\u001b[1;32m     12\u001b[0m \u001b[0;34m\u001b[0m\u001b[0m\n",
            "\u001b[0;32m/usr/local/lib/python3.10/dist-packages/scipy/interpolate/_bsplines.py\u001b[0m in \u001b[0;36m<module>\u001b[0;34m\u001b[0m\n\u001b[1;32m      7\u001b[0m                           \u001b[0mcholesky_banded\u001b[0m\u001b[0;34m,\u001b[0m \u001b[0mcho_solve_banded\u001b[0m\u001b[0;34m,\u001b[0m\u001b[0;34m\u001b[0m\u001b[0;34m\u001b[0m\u001b[0m\n\u001b[1;32m      8\u001b[0m                           solve, solve_banded)\n\u001b[0;32m----> 9\u001b[0;31m \u001b[0;32mfrom\u001b[0m \u001b[0mscipy\u001b[0m\u001b[0;34m.\u001b[0m\u001b[0moptimize\u001b[0m \u001b[0;32mimport\u001b[0m \u001b[0mminimize_scalar\u001b[0m\u001b[0;34m\u001b[0m\u001b[0;34m\u001b[0m\u001b[0m\n\u001b[0m\u001b[1;32m     10\u001b[0m \u001b[0;32mfrom\u001b[0m \u001b[0;34m.\u001b[0m \u001b[0;32mimport\u001b[0m \u001b[0m_bspl\u001b[0m\u001b[0;34m\u001b[0m\u001b[0;34m\u001b[0m\u001b[0m\n\u001b[1;32m     11\u001b[0m \u001b[0;32mfrom\u001b[0m \u001b[0;34m.\u001b[0m \u001b[0;32mimport\u001b[0m \u001b[0m_fitpack_impl\u001b[0m\u001b[0;34m\u001b[0m\u001b[0;34m\u001b[0m\u001b[0m\n",
            "\u001b[0;32m/usr/local/lib/python3.10/dist-packages/scipy/optimize/__init__.py\u001b[0m in \u001b[0;36m<module>\u001b[0;34m\u001b[0m\n\u001b[1;32m    408\u001b[0m \u001b[0;34m\u001b[0m\u001b[0m\n\u001b[1;32m    409\u001b[0m \u001b[0;32mfrom\u001b[0m \u001b[0;34m.\u001b[0m\u001b[0m_optimize\u001b[0m \u001b[0;32mimport\u001b[0m \u001b[0;34m*\u001b[0m\u001b[0;34m\u001b[0m\u001b[0;34m\u001b[0m\u001b[0m\n\u001b[0;32m--> 410\u001b[0;31m \u001b[0;32mfrom\u001b[0m \u001b[0;34m.\u001b[0m\u001b[0m_minimize\u001b[0m \u001b[0;32mimport\u001b[0m \u001b[0;34m*\u001b[0m\u001b[0;34m\u001b[0m\u001b[0;34m\u001b[0m\u001b[0m\n\u001b[0m\u001b[1;32m    411\u001b[0m \u001b[0;32mfrom\u001b[0m \u001b[0;34m.\u001b[0m\u001b[0m_root\u001b[0m \u001b[0;32mimport\u001b[0m \u001b[0;34m*\u001b[0m\u001b[0;34m\u001b[0m\u001b[0;34m\u001b[0m\u001b[0m\n\u001b[1;32m    412\u001b[0m \u001b[0;32mfrom\u001b[0m \u001b[0;34m.\u001b[0m\u001b[0m_root_scalar\u001b[0m \u001b[0;32mimport\u001b[0m \u001b[0;34m*\u001b[0m\u001b[0;34m\u001b[0m\u001b[0;34m\u001b[0m\u001b[0m\n",
            "\u001b[0;32m/usr/local/lib/python3.10/dist-packages/scipy/optimize/_minimize.py\u001b[0m in \u001b[0;36m<module>\u001b[0;34m\u001b[0m\n\u001b[1;32m     25\u001b[0m \u001b[0;32mfrom\u001b[0m \u001b[0;34m.\u001b[0m\u001b[0m_trustregion_krylov\u001b[0m \u001b[0;32mimport\u001b[0m \u001b[0m_minimize_trust_krylov\u001b[0m\u001b[0;34m\u001b[0m\u001b[0;34m\u001b[0m\u001b[0m\n\u001b[1;32m     26\u001b[0m \u001b[0;32mfrom\u001b[0m \u001b[0;34m.\u001b[0m\u001b[0m_trustregion_exact\u001b[0m \u001b[0;32mimport\u001b[0m \u001b[0m_minimize_trustregion_exact\u001b[0m\u001b[0;34m\u001b[0m\u001b[0;34m\u001b[0m\u001b[0m\n\u001b[0;32m---> 27\u001b[0;31m \u001b[0;32mfrom\u001b[0m \u001b[0;34m.\u001b[0m\u001b[0m_trustregion_constr\u001b[0m \u001b[0;32mimport\u001b[0m \u001b[0m_minimize_trustregion_constr\u001b[0m\u001b[0;34m\u001b[0m\u001b[0;34m\u001b[0m\u001b[0m\n\u001b[0m\u001b[1;32m     28\u001b[0m \u001b[0;34m\u001b[0m\u001b[0m\n\u001b[1;32m     29\u001b[0m \u001b[0;31m# constrained minimization\u001b[0m\u001b[0;34m\u001b[0m\u001b[0;34m\u001b[0m\u001b[0m\n",
            "\u001b[0;32m/usr/local/lib/python3.10/dist-packages/scipy/optimize/_trustregion_constr/__init__.py\u001b[0m in \u001b[0;36m<module>\u001b[0;34m\u001b[0m\n\u001b[1;32m      2\u001b[0m \u001b[0;34m\u001b[0m\u001b[0m\n\u001b[1;32m      3\u001b[0m \u001b[0;34m\u001b[0m\u001b[0m\n\u001b[0;32m----> 4\u001b[0;31m \u001b[0;32mfrom\u001b[0m \u001b[0;34m.\u001b[0m\u001b[0mminimize_trustregion_constr\u001b[0m \u001b[0;32mimport\u001b[0m \u001b[0m_minimize_trustregion_constr\u001b[0m\u001b[0;34m\u001b[0m\u001b[0;34m\u001b[0m\u001b[0m\n\u001b[0m\u001b[1;32m      5\u001b[0m \u001b[0;34m\u001b[0m\u001b[0m\n\u001b[1;32m      6\u001b[0m \u001b[0m__all__\u001b[0m \u001b[0;34m=\u001b[0m \u001b[0;34m[\u001b[0m\u001b[0;34m'_minimize_trustregion_constr'\u001b[0m\u001b[0;34m]\u001b[0m\u001b[0;34m\u001b[0m\u001b[0;34m\u001b[0m\u001b[0m\n",
            "\u001b[0;32m/usr/local/lib/python3.10/dist-packages/scipy/optimize/_trustregion_constr/minimize_trustregion_constr.py\u001b[0m in \u001b[0;36m<module>\u001b[0;34m\u001b[0m\n\u001b[1;32m      3\u001b[0m \u001b[0;32mfrom\u001b[0m \u001b[0mscipy\u001b[0m\u001b[0;34m.\u001b[0m\u001b[0msparse\u001b[0m\u001b[0;34m.\u001b[0m\u001b[0mlinalg\u001b[0m \u001b[0;32mimport\u001b[0m \u001b[0mLinearOperator\u001b[0m\u001b[0;34m\u001b[0m\u001b[0;34m\u001b[0m\u001b[0m\n\u001b[1;32m      4\u001b[0m \u001b[0;32mfrom\u001b[0m \u001b[0;34m.\u001b[0m\u001b[0;34m.\u001b[0m\u001b[0m_differentiable_functions\u001b[0m \u001b[0;32mimport\u001b[0m \u001b[0mVectorFunction\u001b[0m\u001b[0;34m\u001b[0m\u001b[0;34m\u001b[0m\u001b[0m\n\u001b[0;32m----> 5\u001b[0;31m from .._constraints import (\n\u001b[0m\u001b[1;32m      6\u001b[0m     NonlinearConstraint, LinearConstraint, PreparedConstraint, Bounds, strict_bounds)\n\u001b[1;32m      7\u001b[0m \u001b[0;32mfrom\u001b[0m \u001b[0;34m.\u001b[0m\u001b[0;34m.\u001b[0m\u001b[0m_hessian_update_strategy\u001b[0m \u001b[0;32mimport\u001b[0m \u001b[0mBFGS\u001b[0m\u001b[0;34m\u001b[0m\u001b[0;34m\u001b[0m\u001b[0m\n",
            "\u001b[0;32m/usr/local/lib/python3.10/dist-packages/scipy/optimize/_constraints.py\u001b[0m in \u001b[0;36m<module>\u001b[0;34m\u001b[0m\n\u001b[1;32m      6\u001b[0m \u001b[0;32mfrom\u001b[0m \u001b[0;34m.\u001b[0m\u001b[0m_optimize\u001b[0m \u001b[0;32mimport\u001b[0m \u001b[0mOptimizeWarning\u001b[0m\u001b[0;34m\u001b[0m\u001b[0;34m\u001b[0m\u001b[0m\n\u001b[1;32m      7\u001b[0m \u001b[0;32mfrom\u001b[0m \u001b[0mwarnings\u001b[0m \u001b[0;32mimport\u001b[0m \u001b[0mwarn\u001b[0m\u001b[0;34m,\u001b[0m \u001b[0mcatch_warnings\u001b[0m\u001b[0;34m,\u001b[0m \u001b[0msimplefilter\u001b[0m\u001b[0;34m\u001b[0m\u001b[0;34m\u001b[0m\u001b[0m\n\u001b[0;32m----> 8\u001b[0;31m \u001b[0;32mfrom\u001b[0m \u001b[0mnumpy\u001b[0m\u001b[0;34m.\u001b[0m\u001b[0mtesting\u001b[0m \u001b[0;32mimport\u001b[0m \u001b[0msuppress_warnings\u001b[0m\u001b[0;34m\u001b[0m\u001b[0;34m\u001b[0m\u001b[0m\n\u001b[0m\u001b[1;32m      9\u001b[0m \u001b[0;32mfrom\u001b[0m \u001b[0mscipy\u001b[0m\u001b[0;34m.\u001b[0m\u001b[0msparse\u001b[0m \u001b[0;32mimport\u001b[0m \u001b[0missparse\u001b[0m\u001b[0;34m\u001b[0m\u001b[0;34m\u001b[0m\u001b[0m\n\u001b[1;32m     10\u001b[0m \u001b[0;34m\u001b[0m\u001b[0m\n",
            "\u001b[0;32m/usr/local/lib/python3.10/dist-packages/numpy/testing/__init__.py\u001b[0m in \u001b[0;36m<module>\u001b[0;34m\u001b[0m\n\u001b[1;32m      9\u001b[0m \u001b[0;34m\u001b[0m\u001b[0m\n\u001b[1;32m     10\u001b[0m \u001b[0;32mfrom\u001b[0m \u001b[0;34m.\u001b[0m \u001b[0;32mimport\u001b[0m \u001b[0m_private\u001b[0m\u001b[0;34m\u001b[0m\u001b[0;34m\u001b[0m\u001b[0m\n\u001b[0;32m---> 11\u001b[0;31m \u001b[0;32mfrom\u001b[0m \u001b[0;34m.\u001b[0m\u001b[0m_private\u001b[0m\u001b[0;34m.\u001b[0m\u001b[0mutils\u001b[0m \u001b[0;32mimport\u001b[0m \u001b[0;34m*\u001b[0m\u001b[0;34m\u001b[0m\u001b[0;34m\u001b[0m\u001b[0m\n\u001b[0m\u001b[1;32m     12\u001b[0m \u001b[0;32mfrom\u001b[0m \u001b[0;34m.\u001b[0m\u001b[0m_private\u001b[0m\u001b[0;34m.\u001b[0m\u001b[0mutils\u001b[0m \u001b[0;32mimport\u001b[0m \u001b[0;34m(\u001b[0m\u001b[0m_assert_valid_refcount\u001b[0m\u001b[0;34m,\u001b[0m \u001b[0m_gen_alignment_data\u001b[0m\u001b[0;34m)\u001b[0m\u001b[0;34m\u001b[0m\u001b[0;34m\u001b[0m\u001b[0m\n\u001b[1;32m     13\u001b[0m \u001b[0;32mfrom\u001b[0m \u001b[0;34m.\u001b[0m\u001b[0m_private\u001b[0m \u001b[0;32mimport\u001b[0m \u001b[0mextbuild\u001b[0m\u001b[0;34m\u001b[0m\u001b[0;34m\u001b[0m\u001b[0m\n",
            "\u001b[0;32m/usr/local/lib/python3.10/dist-packages/numpy/testing/_private/utils.py\u001b[0m in \u001b[0;36m<module>\u001b[0;34m\u001b[0m\n\u001b[1;32m     55\u001b[0m \u001b[0mIS_PYSTON\u001b[0m \u001b[0;34m=\u001b[0m \u001b[0mhasattr\u001b[0m\u001b[0;34m(\u001b[0m\u001b[0msys\u001b[0m\u001b[0;34m,\u001b[0m \u001b[0;34m\"pyston_version_info\"\u001b[0m\u001b[0;34m)\u001b[0m\u001b[0;34m\u001b[0m\u001b[0;34m\u001b[0m\u001b[0m\n\u001b[1;32m     56\u001b[0m \u001b[0mHAS_REFCOUNT\u001b[0m \u001b[0;34m=\u001b[0m \u001b[0mgetattr\u001b[0m\u001b[0;34m(\u001b[0m\u001b[0msys\u001b[0m\u001b[0;34m,\u001b[0m \u001b[0;34m'getrefcount'\u001b[0m\u001b[0;34m,\u001b[0m \u001b[0;32mNone\u001b[0m\u001b[0;34m)\u001b[0m \u001b[0;32mis\u001b[0m \u001b[0;32mnot\u001b[0m \u001b[0;32mNone\u001b[0m \u001b[0;32mand\u001b[0m \u001b[0;32mnot\u001b[0m \u001b[0mIS_PYSTON\u001b[0m\u001b[0;34m\u001b[0m\u001b[0;34m\u001b[0m\u001b[0m\n\u001b[0;32m---> 57\u001b[0;31m \u001b[0mHAS_LAPACK64\u001b[0m \u001b[0;34m=\u001b[0m \u001b[0mnumpy\u001b[0m\u001b[0;34m.\u001b[0m\u001b[0mlinalg\u001b[0m\u001b[0;34m.\u001b[0m\u001b[0m_umath_linalg\u001b[0m\u001b[0;34m.\u001b[0m\u001b[0m_ilp64\u001b[0m\u001b[0;34m\u001b[0m\u001b[0;34m\u001b[0m\u001b[0m\n\u001b[0m\u001b[1;32m     58\u001b[0m \u001b[0;34m\u001b[0m\u001b[0m\n\u001b[1;32m     59\u001b[0m \u001b[0m_OLD_PROMOTION\u001b[0m \u001b[0;34m=\u001b[0m \u001b[0;32mlambda\u001b[0m\u001b[0;34m:\u001b[0m \u001b[0mnp\u001b[0m\u001b[0;34m.\u001b[0m\u001b[0m_get_promotion_state\u001b[0m\u001b[0;34m(\u001b[0m\u001b[0;34m)\u001b[0m \u001b[0;34m==\u001b[0m \u001b[0;34m'legacy'\u001b[0m\u001b[0;34m\u001b[0m\u001b[0;34m\u001b[0m\u001b[0m\n",
            "\u001b[0;31mAttributeError\u001b[0m: module 'numpy.linalg._umath_linalg' has no attribute '_ilp64'"
          ]
        }
      ]
    },
    {
      "cell_type": "markdown",
      "source": [
        "# Linear Regression | Boston Housing"
      ],
      "metadata": {
        "id": "PCvw1UOH3KQC"
      }
    },
    {
      "cell_type": "markdown",
      "source": [
        "https://keras.io/api/datasets/boston_housing/\n",
        "\n",
        "http://lib.stat.cmu.edu/datasets/boston"
      ],
      "metadata": {
        "id": "xgSAWgYH3THR"
      }
    },
    {
      "cell_type": "markdown",
      "source": [
        "Boston house price data from Harrison, D. and Rubinfeld, D.L. for the article 'Hedonic Prices and the Demand for Clean Air', J. Environ. Economics and Management, vol.5, 81-102, 1978."
      ],
      "metadata": {
        "id": "Do72QKEC3b_i"
      }
    },
    {
      "cell_type": "markdown",
      "source": [
        "- Per capita crime rate by city.\n",
         "- Proportion to residential land zoned in lots over 25,000 square feet.\n",
         "- Proportion in relation to hectares of non-retail land by city\n",
         " - What is the relationship between residential land and commercial land\n",
         "- Proportion in relation to land allocated with rivers\n",
         "- Concentration of nitric oxides measured on the ground (parts per 10 million)\n",
         " - Amount of trash\n",
         "- Average number of rooms per dwelling in the same subdivision\n",
         " - Quite common to have more rooms left to rent to guests\n",
         " - These extra rooms are usually planned / estimated during construction\n",
         "- Proportion of occupied units (subdivision) and built before 1940\n",
         " - Get a sense of how much that area evolved at a specific time\n",
         "- Weighted distances to five Boston job centers\n",
         " - Distance from the subdivision to the centers\n",
         "- Accessibility index to radial highways\n",
         "- Average value property tax rate (scaled by 10,000)\n",
         "- Student to teacher ratio by city\n",
         "- Proportion of black people per city (per thousand inhabitants)\n",
         "- Lowest status percentage of population\n",
         "- Average home value (scaled by 1,000)\n"
      ],
      "metadata": {
        "id": "tcnmKY8P3fpa"
      }
    },
    {
      "cell_type": "markdown",
      "source": [
        "The goal is to use linear regression to find the average value of owner-occupied homes at $1,000."
      ],
      "metadata": {
        "id": "m4zGA1rS3we7"
      }
    },
    {
      "cell_type": "code",
      "source": [
        "#Import Libs, modules and Packages\n",
        "\n",
        "import tensorflow as tf # to create the model, the architeture, of neural network\n",
        "import numpy as np # Visualize Data\n",
        "\n",
        "from keras.models import Sequential # I Will use this tool to create my model, Sequencial Layers Model\n",
        "from keras.layers import Dense # This is the Layer Type used\n",
        "\n",
        "import matplotlib.pyplot as plt # Graphic View\n"
      ],
      "metadata": {
        "id": "F-PCZ-3_j_aO"
      },
      "execution_count": null,
      "outputs": []
    },
    {
      "cell_type": "code",
      "source": [
        "print(f'TensorFlow Lib Version: {tf.__version__}')"
      ],
      "metadata": {
        "colab": {
          "base_uri": "https://localhost:8080/"
        },
        "id": "GNx3dsvO3gFF",
        "outputId": "0481f40b-10e2-49f7-e8af-21a106918f82"
      },
      "execution_count": null,
      "outputs": [
        {
          "output_type": "stream",
          "name": "stdout",
          "text": [
            "TensorFlow Lib Version: 2.15.0\n"
          ]
        }
      ]
    },
    {
      "cell_type": "code",
      "source": [
        "# Load Data Base | # https://keras.io/api/datasets/boston_housing/ # |\n",
        "\n",
        "data = tf.keras.datasets.boston_housing\n",
        "\n",
        "# Separate Test Data and Train Data\n",
        "\n",
        "(x_train, y_train), (x_test, y_test) = data.load_data()\n"
      ],
      "metadata": {
        "colab": {
          "base_uri": "https://localhost:8080/"
        },
        "id": "HuPI213e3s-u",
        "outputId": "0cd33f7f-9ca7-4715-8707-bf721971cc91"
      },
      "execution_count": null,
      "outputs": [
        {
          "output_type": "stream",
          "name": "stdout",
          "text": [
            "Downloading data from https://storage.googleapis.com/tensorflow/tf-keras-datasets/boston_housing.npz\n",
            "57026/57026 [==============================] - 0s 0us/step\n"
          ]
        }
      ]
    },
    {
      "cell_type": "code",
      "source": [
        "# Data Type\n",
        "\n",
        "print(type(x_train))"
      ],
      "metadata": {
        "colab": {
          "base_uri": "https://localhost:8080/"
        },
        "id": "73Qj6QXk4ad9",
        "outputId": "a82d1693-8523-4939-c197-771b8e9292a0"
      },
      "execution_count": null,
      "outputs": [
        {
          "output_type": "stream",
          "name": "stdout",
          "text": [
            "<class 'numpy.ndarray'>\n"
          ]
        }
      ]
    },
    {
      "cell_type": "code",
      "source": [
        "# Train Data Format\n",
        "\n",
        "print(x_train.shape)\n",
        "\n",
        "# 404 Data Lines\n",
        "# 13 Different Categories"
      ],
      "metadata": {
        "colab": {
          "base_uri": "https://localhost:8080/"
        },
        "id": "dsj3rMuO4gFF",
        "outputId": "5d0f36bf-0dac-4b80-8af3-5ca311566aa4"
      },
      "execution_count": null,
      "outputs": [
        {
          "output_type": "stream",
          "name": "stdout",
          "text": [
            "(404, 13)\n"
          ]
        }
      ]
    },
    {
      "cell_type": "code",
      "source": [
        "# Test Data Format\n",
        "\n",
        "print(x_test.shape)\n",
        "\n",
        "# 102 Samples\n",
        "# 13 Different Categories"
      ],
      "metadata": {
        "colab": {
          "base_uri": "https://localhost:8080/"
        },
        "outputId": "64dd3cf5-afee-40b8-e089-acfcff0a8c0f",
        "id": "YIHTQhZY5R_N"
      },
      "execution_count": null,
      "outputs": [
        {
          "output_type": "stream",
          "name": "stdout",
          "text": [
            "(102, 13)\n"
          ]
        }
      ]
    },
    {
      "cell_type": "code",
      "source": [
        "# Show First Train Data Sample\n",
        "\n",
        "print(x_train[0])"
      ],
      "metadata": {
        "colab": {
          "base_uri": "https://localhost:8080/"
        },
        "id": "VlWW7N3q5c2P",
        "outputId": "3fbdcb0a-e57d-4d37-e637-d1392b1747c2"
      },
      "execution_count": null,
      "outputs": [
        {
          "output_type": "stream",
          "name": "stdout",
          "text": [
            "[  1.23247   0.        8.14      0.        0.538     6.142    91.7\n",
            "   3.9769    4.      307.       21.      396.9      18.72   ]\n"
          ]
        }
      ]
    },
    {
      "cell_type": "code",
      "source": [
        "# Show First Test Data Sample\n",
        "\n",
        "print(x_test[0])"
      ],
      "metadata": {
        "colab": {
          "base_uri": "https://localhost:8080/"
        },
        "id": "DYC1T9QA5lXm",
        "outputId": "75a87556-121b-4d3e-b7f4-68c162ea0346"
      },
      "execution_count": null,
      "outputs": [
        {
          "output_type": "stream",
          "name": "stdout",
          "text": [
            "[ 18.0846   0.      18.1      0.       0.679    6.434  100.       1.8347\n",
            "  24.     666.      20.2     27.25    29.05  ]\n"
          ]
        }
      ]
    },
    {
      "cell_type": "code",
      "source": [
        "# Show First Test Data Sample Answer\n",
        "\n",
        "print(y_test[0])"
      ],
      "metadata": {
        "colab": {
          "base_uri": "https://localhost:8080/"
        },
        "id": "bRPFZpa95smu",
        "outputId": "41495916-dd38-461b-d9e4-cc0e33e03902"
      },
      "execution_count": null,
      "outputs": [
        {
          "output_type": "stream",
          "name": "stdout",
          "text": [
            "7.2\n"
          ]
        }
      ]
    },
    {
      "cell_type": "code",
      "source": [
        "# Normalization Through Mean and Standard Deviation\n",
        "\n",
        "media = x_train.mean(axis = 0)\n",
        "desvio = x_train.std( axis = 0 )\n",
        "\n",
        "x_train = (x_train - media) / desvio\n",
        "x_test = (x_test - media) / desvio\n",
        "\n",
        "# DOCS:\n",
        "# | https://numpy.org/doc/stable/reference/generated/numpy.mean.html\n",
        "# | https://numpy.org/doc/stable/reference/generated/numpy.std.html"
      ],
      "metadata": {
        "id": "SSHN7WPw58RL"
      },
      "execution_count": null,
      "outputs": []
    },
    {
      "cell_type": "code",
      "source": [
        "# MY MODEL:\n",
        "\n",
        "model = Sequential([\n",
        "    Dense(\n",
        "      units = 64,\n",
        "      activation = 'relu',\n",
        "      input_shape = [13]\n",
        "    ),\n",
        "    Dense(\n",
        "      units = 64,\n",
        "      activation = \"relu\"\n",
        "    ),\n",
        "    Dense( units = 1 )\n",
        "])\n",
        "\n",
        "# DOCS:\n",
        "# | https://keras.io/api/models/sequential/#sequential-class\n",
        "# | https://keras.io/api/layers/core_layers/dense/\n",
        "# | https://keras.io/api/layers/activations/"
      ],
      "metadata": {
        "id": "jaO-pc_B7X-S"
      },
      "execution_count": null,
      "outputs": []
    },
    {
      "cell_type": "code",
      "source": [
        "model.summary()"
      ],
      "metadata": {
        "colab": {
          "base_uri": "https://localhost:8080/"
        },
        "id": "7I8I-Y1P8cVi",
        "outputId": "b5dd1635-fe04-4265-b491-e48e48cbf01a"
      },
      "execution_count": null,
      "outputs": [
        {
          "output_type": "stream",
          "name": "stdout",
          "text": [
            "Model: \"sequential\"\n",
            "_________________________________________________________________\n",
            " Layer (type)                Output Shape              Param #   \n",
            "=================================================================\n",
            " dense (Dense)               (None, 64)                896       \n",
            "                                                                 \n",
            " dense_1 (Dense)             (None, 64)                4160      \n",
            "                                                                 \n",
            " dense_2 (Dense)             (None, 1)                 65        \n",
            "                                                                 \n",
            "=================================================================\n",
            "Total params: 5121 (20.00 KB)\n",
            "Trainable params: 5121 (20.00 KB)\n",
            "Non-trainable params: 0 (0.00 Byte)\n",
            "_________________________________________________________________\n"
          ]
        }
      ]
    },
    {
      "cell_type": "code",
      "source": [
        "tf.keras.utils.plot_model(model,\n",
        "           to_file = 'model.png',\n",
        "           show_shapes = True,\n",
        "           show_layer_names = False)"
      ],
      "metadata": {
        "colab": {
          "base_uri": "https://localhost:8080/",
          "height": 422
        },
        "id": "f3bhjEAT3yrR",
        "outputId": "c1626803-11ea-48e4-9f55-a20b45d5285d"
      },
      "execution_count": null,
      "outputs": [
        {
          "output_type": "execute_result",
          "data": {
            "image/png": "[encoded data removed]",
            "text/plain": [
              "<IPython.core.display.Image object>"
            ]
          },
          "metadata": {},
          "execution_count": 20
        }
      ]
    },
    {
      "cell_type": "code",
      "source": [
        "# OPTIMIZE MODEL ALGORITHM\n",
        "# RUN WITH MODEL AND OPTIMIZE IN EACH CYCLE GENERATION\n",
        "\n",
        "model.compile(\n",
        "    optimizer = \"adam\",\n",
        "    loss = \"mse\", # Mean Squared Error\n",
        "    metrics = [\"mae\"] # Mean Absolute Error\n",
        "    )\n",
        "\n",
        "# DOCS:\n",
        "# | https://keras.io/api/optimizers/\n",
        "# | https://keras.io/api/losses/\n",
        "# | https://keras.io/api/metrics/"
      ],
      "metadata": {
        "id": "v2wAqpv09Rlh"
      },
      "execution_count": null,
      "outputs": []
    },
    {
      "cell_type": "code",
      "source": [
        "%time\n",
        "\n",
        "# TEST MODEL WITH TRAIN DATA\n",
        "\n",
        "history = model.fit(\n",
        "    x_train,\n",
        "    y_train,\n",
        "    epochs = 100,           # EPOCHS / CYCLES / ROUNDS OF TRAIN\n",
        "    validation_split = 0.2  # AUTO METRICS OBSERVE 80% OF TRAIN DATA AND 20% OF TEST DATA TO AVALUETA THE QUALITY OF MODEL\n",
        ")"
      ],
      "metadata": {
        "colab": {
          "base_uri": "https://localhost:8080/"
        },
        "id": "JbEP3WS--E6K",
        "outputId": "19098c86-721a-4b2c-c8cd-5e56d59abf63"
      },
      "execution_count": null,
      "outputs": [
        {
          "output_type": "stream",
          "name": "stdout",
          "text": [
            "CPU times: user 5 µs, sys: 0 ns, total: 5 µs\n",
            "Wall time: 27.7 µs\n",
            "Epoch 1/100\n",
            "11/11 [==============================] - 1s 25ms/step - loss: 548.0803 - mae: 21.5817 - val_loss: 586.1551 - val_mae: 22.4430\n",
            "Epoch 2/100\n",
            "11/11 [==============================] - 0s 5ms/step - loss: 494.4372 - mae: 20.3510 - val_loss: 529.9390 - val_mae: 21.1902\n",
            "Epoch 3/100\n",
            "11/11 [==============================] - 0s 7ms/step - loss: 436.0063 - mae: 18.9292 - val_loss: 462.0464 - val_mae: 19.5998\n",
            "Epoch 4/100\n",
            "11/11 [==============================] - 0s 7ms/step - loss: 366.2424 - mae: 17.1297 - val_loss: 380.7783 - val_mae: 17.5347\n",
            "Epoch 5/100\n",
            "11/11 [==============================] - 0s 5ms/step - loss: 284.7656 - mae: 14.7783 - val_loss: 287.4145 - val_mae: 14.7860\n",
            "Epoch 6/100\n",
            "11/11 [==============================] - 0s 6ms/step - loss: 198.5618 - mae: 11.9324 - val_loss: 198.8594 - val_mae: 11.6096\n",
            "Epoch 7/100\n",
            "11/11 [==============================] - 0s 7ms/step - loss: 129.3180 - mae: 9.1528 - val_loss: 135.1829 - val_mae: 9.0270\n",
            "Epoch 8/100\n",
            "11/11 [==============================] - 0s 7ms/step - loss: 89.7767 - mae: 7.3205 - val_loss: 101.7017 - val_mae: 7.6816\n",
            "Epoch 9/100\n",
            "11/11 [==============================] - 0s 5ms/step - loss: 71.0813 - mae: 6.3768 - val_loss: 84.2983 - val_mae: 6.9908\n",
            "Epoch 10/100\n",
            "11/11 [==============================] - 0s 8ms/step - loss: 60.4386 - mae: 5.7750 - val_loss: 71.7852 - val_mae: 6.4208\n",
            "Epoch 11/100\n",
            "11/11 [==============================] - 0s 7ms/step - loss: 50.7424 - mae: 5.2275 - val_loss: 61.0578 - val_mae: 5.8309\n",
            "Epoch 12/100\n",
            "11/11 [==============================] - 0s 5ms/step - loss: 43.0880 - mae: 4.7815 - val_loss: 52.3094 - val_mae: 5.3794\n",
            "Epoch 13/100\n",
            "11/11 [==============================] - 0s 7ms/step - loss: 37.1069 - mae: 4.3635 - val_loss: 46.3043 - val_mae: 5.0435\n",
            "Epoch 14/100\n",
            "11/11 [==============================] - 0s 5ms/step - loss: 32.8843 - mae: 4.0715 - val_loss: 40.7851 - val_mae: 4.7690\n",
            "Epoch 15/100\n",
            "11/11 [==============================] - 0s 6ms/step - loss: 29.7141 - mae: 3.8445 - val_loss: 36.8014 - val_mae: 4.5426\n",
            "Epoch 16/100\n",
            "11/11 [==============================] - 0s 5ms/step - loss: 27.5383 - mae: 3.6650 - val_loss: 33.8491 - val_mae: 4.3678\n",
            "Epoch 17/100\n",
            "11/11 [==============================] - 0s 5ms/step - loss: 25.6332 - mae: 3.5225 - val_loss: 31.6565 - val_mae: 4.2359\n",
            "Epoch 18/100\n",
            "11/11 [==============================] - 0s 5ms/step - loss: 24.1685 - mae: 3.4182 - val_loss: 29.5252 - val_mae: 4.1425\n",
            "Epoch 19/100\n",
            "11/11 [==============================] - 0s 6ms/step - loss: 22.7440 - mae: 3.3305 - val_loss: 28.2473 - val_mae: 4.0674\n",
            "Epoch 20/100\n",
            "11/11 [==============================] - 0s 7ms/step - loss: 21.6924 - mae: 3.2563 - val_loss: 27.0210 - val_mae: 3.9776\n",
            "Epoch 21/100\n",
            "11/11 [==============================] - 0s 6ms/step - loss: 20.7757 - mae: 3.1882 - val_loss: 26.0705 - val_mae: 3.9070\n",
            "Epoch 22/100\n",
            "11/11 [==============================] - 0s 7ms/step - loss: 19.7772 - mae: 3.1191 - val_loss: 25.1668 - val_mae: 3.8668\n",
            "Epoch 23/100\n",
            "11/11 [==============================] - 0s 5ms/step - loss: 19.1017 - mae: 3.0490 - val_loss: 24.1794 - val_mae: 3.7697\n",
            "Epoch 24/100\n",
            "11/11 [==============================] - 0s 7ms/step - loss: 18.2739 - mae: 2.9814 - val_loss: 23.4326 - val_mae: 3.7154\n",
            "Epoch 25/100\n",
            "11/11 [==============================] - 0s 6ms/step - loss: 17.6375 - mae: 2.9325 - val_loss: 22.8992 - val_mae: 3.6759\n",
            "Epoch 26/100\n",
            "11/11 [==============================] - 0s 5ms/step - loss: 16.9767 - mae: 2.8744 - val_loss: 22.2948 - val_mae: 3.6140\n",
            "Epoch 27/100\n",
            "11/11 [==============================] - 0s 7ms/step - loss: 16.5256 - mae: 2.8344 - val_loss: 21.7701 - val_mae: 3.5712\n",
            "Epoch 28/100\n",
            "11/11 [==============================] - 0s 5ms/step - loss: 16.0932 - mae: 2.7785 - val_loss: 21.2136 - val_mae: 3.4633\n",
            "Epoch 29/100\n",
            "11/11 [==============================] - 0s 6ms/step - loss: 15.7513 - mae: 2.7587 - val_loss: 20.7799 - val_mae: 3.4625\n",
            "Epoch 30/100\n",
            "11/11 [==============================] - 0s 7ms/step - loss: 15.1221 - mae: 2.6869 - val_loss: 20.4100 - val_mae: 3.4162\n",
            "Epoch 31/100\n",
            "11/11 [==============================] - 0s 7ms/step - loss: 14.8251 - mae: 2.6631 - val_loss: 20.2388 - val_mae: 3.3925\n",
            "Epoch 32/100\n",
            "11/11 [==============================] - 0s 5ms/step - loss: 14.4524 - mae: 2.6327 - val_loss: 19.8709 - val_mae: 3.3510\n",
            "Epoch 33/100\n",
            "11/11 [==============================] - 0s 5ms/step - loss: 14.1072 - mae: 2.5937 - val_loss: 19.5769 - val_mae: 3.3123\n",
            "Epoch 34/100\n",
            "11/11 [==============================] - 0s 5ms/step - loss: 13.8291 - mae: 2.5501 - val_loss: 19.2876 - val_mae: 3.2770\n",
            "Epoch 35/100\n",
            "11/11 [==============================] - 0s 6ms/step - loss: 13.6080 - mae: 2.5232 - val_loss: 18.9673 - val_mae: 3.2248\n",
            "Epoch 36/100\n",
            "11/11 [==============================] - 0s 6ms/step - loss: 13.3419 - mae: 2.5009 - val_loss: 18.6868 - val_mae: 3.2075\n",
            "Epoch 37/100\n",
            "11/11 [==============================] - 0s 5ms/step - loss: 13.0776 - mae: 2.4755 - val_loss: 18.3810 - val_mae: 3.1866\n",
            "Epoch 38/100\n",
            "11/11 [==============================] - 0s 5ms/step - loss: 12.7754 - mae: 2.4532 - val_loss: 18.3469 - val_mae: 3.1755\n",
            "Epoch 39/100\n",
            "11/11 [==============================] - 0s 6ms/step - loss: 12.6646 - mae: 2.4884 - val_loss: 18.3478 - val_mae: 3.1626\n",
            "Epoch 40/100\n",
            "11/11 [==============================] - 0s 7ms/step - loss: 12.5365 - mae: 2.4769 - val_loss: 18.0912 - val_mae: 3.1109\n",
            "Epoch 41/100\n",
            "11/11 [==============================] - 0s 5ms/step - loss: 12.1975 - mae: 2.4241 - val_loss: 17.7921 - val_mae: 3.0974\n",
            "Epoch 42/100\n",
            "11/11 [==============================] - 0s 7ms/step - loss: 12.0604 - mae: 2.4061 - val_loss: 17.6190 - val_mae: 3.0784\n",
            "Epoch 43/100\n",
            "11/11 [==============================] - 0s 5ms/step - loss: 12.0803 - mae: 2.4089 - val_loss: 17.4456 - val_mae: 3.0077\n",
            "Epoch 44/100\n",
            "11/11 [==============================] - 0s 7ms/step - loss: 11.7717 - mae: 2.4142 - val_loss: 16.9291 - val_mae: 3.0088\n",
            "Epoch 45/100\n",
            "11/11 [==============================] - 0s 6ms/step - loss: 11.7213 - mae: 2.4070 - val_loss: 16.3658 - val_mae: 2.9416\n",
            "Epoch 46/100\n",
            "11/11 [==============================] - 0s 7ms/step - loss: 11.6775 - mae: 2.3966 - val_loss: 16.3905 - val_mae: 2.9238\n",
            "Epoch 47/100\n",
            "11/11 [==============================] - 0s 5ms/step - loss: 11.6121 - mae: 2.3391 - val_loss: 15.9510 - val_mae: 2.9453\n",
            "Epoch 48/100\n",
            "11/11 [==============================] - 0s 5ms/step - loss: 11.2521 - mae: 2.3041 - val_loss: 16.3782 - val_mae: 2.9136\n",
            "Epoch 49/100\n",
            "11/11 [==============================] - 0s 5ms/step - loss: 11.0770 - mae: 2.3363 - val_loss: 16.8257 - val_mae: 2.9576\n",
            "Epoch 50/100\n",
            "11/11 [==============================] - 0s 5ms/step - loss: 10.9289 - mae: 2.3301 - val_loss: 16.7264 - val_mae: 2.9582\n",
            "Epoch 51/100\n",
            "11/11 [==============================] - 0s 7ms/step - loss: 10.7891 - mae: 2.2877 - val_loss: 16.3115 - val_mae: 2.9360\n",
            "Epoch 52/100\n",
            "11/11 [==============================] - 0s 5ms/step - loss: 10.8539 - mae: 2.3056 - val_loss: 16.2877 - val_mae: 2.8576\n",
            "Epoch 53/100\n",
            "11/11 [==============================] - 0s 5ms/step - loss: 10.7119 - mae: 2.2722 - val_loss: 15.9719 - val_mae: 2.8985\n",
            "Epoch 54/100\n",
            "11/11 [==============================] - 0s 7ms/step - loss: 10.5481 - mae: 2.2503 - val_loss: 16.2086 - val_mae: 2.8997\n",
            "Epoch 55/100\n",
            "11/11 [==============================] - 0s 7ms/step - loss: 10.5444 - mae: 2.2599 - val_loss: 16.5803 - val_mae: 2.9200\n",
            "Epoch 56/100\n",
            "11/11 [==============================] - 0s 5ms/step - loss: 10.3117 - mae: 2.2512 - val_loss: 16.8461 - val_mae: 2.9074\n",
            "Epoch 57/100\n",
            "11/11 [==============================] - 0s 5ms/step - loss: 10.3667 - mae: 2.3008 - val_loss: 17.5391 - val_mae: 2.8993\n",
            "Epoch 58/100\n",
            "11/11 [==============================] - 0s 5ms/step - loss: 10.4919 - mae: 2.3403 - val_loss: 18.1594 - val_mae: 2.8752\n",
            "Epoch 59/100\n",
            "11/11 [==============================] - 0s 5ms/step - loss: 10.1058 - mae: 2.2430 - val_loss: 17.0344 - val_mae: 2.9149\n",
            "Epoch 60/100\n",
            "11/11 [==============================] - 0s 7ms/step - loss: 10.3017 - mae: 2.2213 - val_loss: 16.8758 - val_mae: 2.8911\n",
            "Epoch 61/100\n",
            "11/11 [==============================] - 0s 5ms/step - loss: 9.9738 - mae: 2.1960 - val_loss: 17.0431 - val_mae: 2.8393\n",
            "Epoch 62/100\n",
            "11/11 [==============================] - 0s 7ms/step - loss: 9.9310 - mae: 2.2313 - val_loss: 17.0046 - val_mae: 2.8099\n",
            "Epoch 63/100\n",
            "11/11 [==============================] - 0s 5ms/step - loss: 9.9203 - mae: 2.2040 - val_loss: 16.1980 - val_mae: 2.8269\n",
            "Epoch 64/100\n",
            "11/11 [==============================] - 0s 7ms/step - loss: 9.7186 - mae: 2.1693 - val_loss: 16.4724 - val_mae: 2.8168\n",
            "Epoch 65/100\n",
            "11/11 [==============================] - 0s 6ms/step - loss: 9.6417 - mae: 2.1726 - val_loss: 16.3783 - val_mae: 2.7935\n",
            "Epoch 66/100\n",
            "11/11 [==============================] - 0s 7ms/step - loss: 9.5821 - mae: 2.1571 - val_loss: 16.0923 - val_mae: 2.7871\n",
            "Epoch 67/100\n",
            "11/11 [==============================] - 0s 7ms/step - loss: 9.5303 - mae: 2.1366 - val_loss: 16.0871 - val_mae: 2.7942\n",
            "Epoch 68/100\n",
            "11/11 [==============================] - 0s 8ms/step - loss: 9.4350 - mae: 2.1426 - val_loss: 16.2748 - val_mae: 2.7910\n",
            "Epoch 69/100\n",
            "11/11 [==============================] - 0s 5ms/step - loss: 9.3953 - mae: 2.1631 - val_loss: 16.7270 - val_mae: 2.8050\n",
            "Epoch 70/100\n",
            "11/11 [==============================] - 0s 5ms/step - loss: 9.7986 - mae: 2.2713 - val_loss: 17.8751 - val_mae: 2.8826\n",
            "Epoch 71/100\n",
            "11/11 [==============================] - 0s 7ms/step - loss: 9.5011 - mae: 2.1837 - val_loss: 16.4862 - val_mae: 2.8630\n",
            "Epoch 72/100\n",
            "11/11 [==============================] - 0s 7ms/step - loss: 9.4318 - mae: 2.1342 - val_loss: 16.4474 - val_mae: 2.8351\n",
            "Epoch 73/100\n",
            "11/11 [==============================] - 0s 5ms/step - loss: 9.3481 - mae: 2.1365 - val_loss: 16.4653 - val_mae: 2.8241\n",
            "Epoch 74/100\n",
            "11/11 [==============================] - 0s 5ms/step - loss: 9.4357 - mae: 2.1682 - val_loss: 15.8234 - val_mae: 2.7105\n",
            "Epoch 75/100\n",
            "11/11 [==============================] - 0s 7ms/step - loss: 9.6692 - mae: 2.1791 - val_loss: 15.0869 - val_mae: 2.6817\n",
            "Epoch 76/100\n",
            "11/11 [==============================] - 0s 7ms/step - loss: 9.1808 - mae: 2.1584 - val_loss: 16.3288 - val_mae: 2.7582\n",
            "Epoch 77/100\n",
            "11/11 [==============================] - 0s 5ms/step - loss: 9.1427 - mae: 2.1508 - val_loss: 15.9034 - val_mae: 2.7615\n",
            "Epoch 78/100\n",
            "11/11 [==============================] - 0s 7ms/step - loss: 8.9067 - mae: 2.0926 - val_loss: 15.5048 - val_mae: 2.7330\n",
            "Epoch 79/100\n",
            "11/11 [==============================] - 0s 7ms/step - loss: 8.9091 - mae: 2.0914 - val_loss: 15.8747 - val_mae: 2.7705\n",
            "Epoch 80/100\n",
            "11/11 [==============================] - 0s 7ms/step - loss: 8.8535 - mae: 2.0787 - val_loss: 15.6084 - val_mae: 2.7337\n",
            "Epoch 81/100\n",
            "11/11 [==============================] - 0s 7ms/step - loss: 8.8662 - mae: 2.0833 - val_loss: 15.3318 - val_mae: 2.7270\n",
            "Epoch 82/100\n",
            "11/11 [==============================] - 0s 7ms/step - loss: 8.8428 - mae: 2.0680 - val_loss: 15.3749 - val_mae: 2.7391\n",
            "Epoch 83/100\n",
            "11/11 [==============================] - 0s 7ms/step - loss: 8.6712 - mae: 2.0593 - val_loss: 15.5521 - val_mae: 2.6773\n",
            "Epoch 84/100\n",
            "11/11 [==============================] - 0s 5ms/step - loss: 8.9021 - mae: 2.1051 - val_loss: 15.1038 - val_mae: 2.6729\n",
            "Epoch 85/100\n",
            "11/11 [==============================] - 0s 7ms/step - loss: 8.6200 - mae: 2.0574 - val_loss: 15.2769 - val_mae: 2.7396\n",
            "Epoch 86/100\n",
            "11/11 [==============================] - 0s 5ms/step - loss: 8.5671 - mae: 2.0377 - val_loss: 15.3336 - val_mae: 2.7148\n",
            "Epoch 87/100\n",
            "11/11 [==============================] - 0s 5ms/step - loss: 8.6713 - mae: 2.0990 - val_loss: 17.3203 - val_mae: 2.7525\n",
            "Epoch 88/100\n",
            "11/11 [==============================] - 0s 7ms/step - loss: 8.4971 - mae: 2.0525 - val_loss: 16.3687 - val_mae: 2.7845\n",
            "Epoch 89/100\n",
            "11/11 [==============================] - 0s 5ms/step - loss: 8.5457 - mae: 2.0306 - val_loss: 16.3886 - val_mae: 2.7473\n",
            "Epoch 90/100\n",
            "11/11 [==============================] - 0s 7ms/step - loss: 8.4882 - mae: 2.0503 - val_loss: 16.2876 - val_mae: 2.7327\n",
            "Epoch 91/100\n",
            "11/11 [==============================] - 0s 5ms/step - loss: 8.4947 - mae: 2.0226 - val_loss: 15.5875 - val_mae: 2.7559\n",
            "Epoch 92/100\n",
            "11/11 [==============================] - 0s 5ms/step - loss: 8.3702 - mae: 2.0012 - val_loss: 15.6937 - val_mae: 2.7060\n",
            "Epoch 93/100\n",
            "11/11 [==============================] - 0s 7ms/step - loss: 8.3449 - mae: 2.0154 - val_loss: 15.9104 - val_mae: 2.7110\n",
            "Epoch 94/100\n",
            "11/11 [==============================] - 0s 5ms/step - loss: 8.2265 - mae: 1.9950 - val_loss: 15.9863 - val_mae: 2.7320\n",
            "Epoch 95/100\n",
            "11/11 [==============================] - 0s 5ms/step - loss: 8.2509 - mae: 2.0040 - val_loss: 16.1279 - val_mae: 2.7144\n",
            "Epoch 96/100\n",
            "11/11 [==============================] - 0s 5ms/step - loss: 8.1629 - mae: 1.9778 - val_loss: 15.7716 - val_mae: 2.7309\n",
            "Epoch 97/100\n",
            "11/11 [==============================] - 0s 6ms/step - loss: 8.2845 - mae: 2.0163 - val_loss: 15.9674 - val_mae: 2.7675\n",
            "Epoch 98/100\n",
            "11/11 [==============================] - 0s 7ms/step - loss: 8.1222 - mae: 1.9860 - val_loss: 15.4665 - val_mae: 2.6922\n",
            "Epoch 99/100\n",
            "11/11 [==============================] - 0s 7ms/step - loss: 8.2468 - mae: 2.0146 - val_loss: 15.7675 - val_mae: 2.6932\n",
            "Epoch 100/100\n",
            "11/11 [==============================] - 0s 7ms/step - loss: 8.2124 - mae: 1.9795 - val_loss: 15.1700 - val_mae: 2.7054\n"
          ]
        }
      ]
    },
    {
      "cell_type": "code",
      "source": [
        "# HISTORIC\n",
        "\n",
        "print(history.history.keys())\n",
        "print(history.history)"
      ],
      "metadata": {
        "colab": {
          "base_uri": "https://localhost:8080/"
        },
        "id": "7Ri9NQiz-N3I",
        "outputId": "68557ae1-3b8a-4615-fa49-abe8e0c91950"
      },
      "execution_count": null,
      "outputs": [
        {
          "output_type": "stream",
          "name": "stdout",
          "text": [
            "dict_keys(['loss', 'mae', 'val_loss', 'val_mae'])\n",
            "{'loss': [548.080322265625, 494.4371643066406, 436.00628662109375, 366.242431640625, 284.7655944824219, 198.5618438720703, 129.3180389404297, 89.77674102783203, 71.08131408691406, 60.43855667114258, 50.74241256713867, 43.088043212890625, 37.10694122314453, 32.88430404663086, 29.714141845703125, 27.538265228271484, 25.633188247680664, 24.168542861938477, 22.744041442871094, 21.692359924316406, 20.775686264038086, 19.777238845825195, 19.101743698120117, 18.273923873901367, 17.637510299682617, 16.976701736450195, 16.525554656982422, 16.093242645263672, 15.751302719116211, 15.122101783752441, 14.8250732421875, 14.452373504638672, 14.10715103149414, 13.829121589660645, 13.608047485351562, 13.341897964477539, 13.07761287689209, 12.775432586669922, 12.664632797241211, 12.536529541015625, 12.197513580322266, 12.06039810180664, 12.080301284790039, 11.771656036376953, 11.721264839172363, 11.677495956420898, 11.612098693847656, 11.25214958190918, 11.076973915100098, 10.928938865661621, 10.78914737701416, 10.853935241699219, 10.711931228637695, 10.548097610473633, 10.544443130493164, 10.311715126037598, 10.366692543029785, 10.49186897277832, 10.105792999267578, 10.30168342590332, 9.973830223083496, 9.931018829345703, 9.920300483703613, 9.718605041503906, 9.641681671142578, 9.582076072692871, 9.530280113220215, 9.43496036529541, 9.395255088806152, 9.798587799072266, 9.501084327697754, 9.43182373046875, 9.34812068939209, 9.435662269592285, 9.669206619262695, 9.180807113647461, 9.142742156982422, 8.906700134277344, 8.909131050109863, 8.85348129272461, 8.866212844848633, 8.842793464660645, 8.671224594116211, 8.902109146118164, 8.620018005371094, 8.567056655883789, 8.671342849731445, 8.497149467468262, 8.54568862915039, 8.488178253173828, 8.494704246520996, 8.370223045349121, 8.344907760620117, 8.22650146484375, 8.250917434692383, 8.162933349609375, 8.284456253051758, 8.122178077697754, 8.246787071228027, 8.212444305419922], 'mae': [21.5816707611084, 20.351049423217773, 18.929227828979492, 17.12973976135254, 14.778318405151367, 11.932374954223633, 9.152820587158203, 7.3205037117004395, 6.376826286315918, 5.7750325202941895, 5.227498531341553, 4.781501293182373, 4.363519668579102, 4.071523666381836, 3.8445310592651367, 3.665031909942627, 3.522535800933838, 3.4182207584381104, 3.330531597137451, 3.256307601928711, 3.188154935836792, 3.1190826892852783, 3.049010753631592, 2.9813718795776367, 2.9325385093688965, 2.874419689178467, 2.8343896865844727, 2.7784969806671143, 2.758674144744873, 2.6869075298309326, 2.6631274223327637, 2.6327102184295654, 2.593709945678711, 2.550137519836426, 2.5231897830963135, 2.500911235809326, 2.475534677505493, 2.453160047531128, 2.488381862640381, 2.476917266845703, 2.4240763187408447, 2.4061319828033447, 2.408881902694702, 2.4142258167266846, 2.4070491790771484, 2.3966195583343506, 2.3390660285949707, 2.304121732711792, 2.3362741470336914, 2.330125093460083, 2.2877275943756104, 2.305569887161255, 2.272150993347168, 2.2503063678741455, 2.259861946105957, 2.251230239868164, 2.3008389472961426, 2.340318202972412, 2.242950439453125, 2.2213125228881836, 2.1960010528564453, 2.2312982082366943, 2.2039525508880615, 2.169255256652832, 2.172581911087036, 2.157111406326294, 2.136582851409912, 2.142587184906006, 2.163135051727295, 2.2712652683258057, 2.183687925338745, 2.134219169616699, 2.136532783508301, 2.1682112216949463, 2.1791458129882812, 2.158353090286255, 2.150754451751709, 2.0926382541656494, 2.091449499130249, 2.078748941421509, 2.08328914642334, 2.0680041313171387, 2.0593180656433105, 2.105072021484375, 2.0574257373809814, 2.037656784057617, 2.099045991897583, 2.0525295734405518, 2.030618667602539, 2.0502512454986572, 2.0225815773010254, 2.0011816024780273, 2.015420913696289, 1.995008945465088, 2.004016876220703, 1.9778385162353516, 2.0162620544433594, 1.9860002994537354, 2.014594793319702, 1.9794880151748657], 'val_loss': [586.1550903320312, 529.9390258789062, 462.0463562011719, 380.7783203125, 287.4144592285156, 198.85940551757812, 135.18292236328125, 101.70169067382812, 84.29827880859375, 71.78520202636719, 61.057796478271484, 52.30937576293945, 46.30433654785156, 40.785064697265625, 36.80141830444336, 33.84912872314453, 31.656494140625, 29.525249481201172, 28.24733543395996, 27.020971298217773, 26.070466995239258, 25.166797637939453, 24.17943000793457, 23.432613372802734, 22.899169921875, 22.294776916503906, 21.77012062072754, 21.21358871459961, 20.77994728088379, 20.409963607788086, 20.23876953125, 19.870866775512695, 19.576902389526367, 19.287641525268555, 18.967313766479492, 18.68680191040039, 18.380966186523438, 18.34694480895996, 18.347787857055664, 18.091205596923828, 17.79212188720703, 17.61897850036621, 17.44561767578125, 16.929065704345703, 16.36581039428711, 16.39045524597168, 15.951028823852539, 16.378173828125, 16.825685501098633, 16.726354598999023, 16.31148338317871, 16.287723541259766, 15.971881866455078, 16.208566665649414, 16.580259323120117, 16.846094131469727, 17.539087295532227, 18.159399032592773, 17.034433364868164, 16.875808715820312, 17.0430965423584, 17.00458526611328, 16.198009490966797, 16.472410202026367, 16.378320693969727, 16.092300415039062, 16.087081909179688, 16.27484130859375, 16.72698402404785, 17.87511444091797, 16.486160278320312, 16.447446823120117, 16.465335845947266, 15.823380470275879, 15.086908340454102, 16.328821182250977, 15.903427124023438, 15.504836082458496, 15.874677658081055, 15.60840129852295, 15.33176040649414, 15.374898910522461, 15.552146911621094, 15.10379409790039, 15.276873588562012, 15.333579063415527, 17.320322036743164, 16.368663787841797, 16.38863182067871, 16.28763198852539, 15.587515830993652, 15.693720817565918, 15.910412788391113, 15.986349105834961, 16.12788963317871, 15.771567344665527, 15.967446327209473, 15.466451644897461, 15.767536163330078, 15.169983863830566], 'val_mae': [22.443042755126953, 21.19019889831543, 19.599777221679688, 17.534709930419922, 14.785968780517578, 11.609588623046875, 9.027029037475586, 7.681615829467773, 6.990822792053223, 6.420807361602783, 5.830873489379883, 5.3794450759887695, 5.043545722961426, 4.769048690795898, 4.542595863342285, 4.367785453796387, 4.235943794250488, 4.142544746398926, 4.067429542541504, 3.9775943756103516, 3.9069862365722656, 3.866755723953247, 3.7696759700775146, 3.715406656265259, 3.675902843475342, 3.613957643508911, 3.5711567401885986, 3.4633381366729736, 3.4624528884887695, 3.4162395000457764, 3.392508029937744, 3.3509793281555176, 3.3122949600219727, 3.2769956588745117, 3.2248098850250244, 3.2074506282806396, 3.1866281032562256, 3.175543785095215, 3.1625540256500244, 3.1109273433685303, 3.097356081008911, 3.078364849090576, 3.0077240467071533, 3.0088493824005127, 2.941598415374756, 2.92375111579895, 2.9453487396240234, 2.9135594367980957, 2.957613468170166, 2.958199977874756, 2.935950994491577, 2.8576412200927734, 2.8984639644622803, 2.899726390838623, 2.9199509620666504, 2.907437562942505, 2.8992722034454346, 2.875214099884033, 2.914896249771118, 2.8910610675811768, 2.839346408843994, 2.8099172115325928, 2.8268513679504395, 2.816838502883911, 2.7935237884521484, 2.787083864212036, 2.794222593307495, 2.7909719944000244, 2.8049867153167725, 2.8825759887695312, 2.862962484359741, 2.8350892066955566, 2.824080228805542, 2.7104616165161133, 2.6817197799682617, 2.758166551589966, 2.761465072631836, 2.732956647872925, 2.770549774169922, 2.7336742877960205, 2.727022886276245, 2.739107847213745, 2.6773202419281006, 2.6728899478912354, 2.7395572662353516, 2.714777946472168, 2.752523899078369, 2.7844579219818115, 2.7472805976867676, 2.7327239513397217, 2.755908966064453, 2.70599102973938, 2.7110040187835693, 2.731999397277832, 2.7144384384155273, 2.7309069633483887, 2.767540454864502, 2.6921963691711426, 2.6931774616241455, 2.7054409980773926]}\n"
          ]
        }
      ]
    },
    {
      "cell_type": "code",
      "source": [
        "# GRAPH VIEW\n",
        "\n",
        "plt.rcParams['figure.figsize'] = (12.0, 6.0)  # WIDTH x HEIGHT\n",
        "\n",
        "plt.plot(history.history['loss'])      # DATA\n",
        "plt.plot(history.history['val_loss'])  # DATA\n",
        "\n",
        "plt.legend(['Loss Rate', 'Loss Rate (Validation)'], loc = 'upper right', fontsize = 'x-large')\n",
        "plt.xlabel('Processing Epochs', fontsize = 16)\n",
        "plt.ylabel('Value', fontsize=16)\n",
        "plt.title('Average Loss Rate', fontsize=18)\n",
        "\n",
        "plt.show()"
      ],
      "metadata": {
        "id": "Y7nHVMVjArrF",
        "colab": {
          "base_uri": "https://localhost:8080/",
          "height": 477
        },
        "outputId": "3b3f54ea-a602-4bcf-feb3-51342a75e5cf"
      },
      "execution_count": 26,
      "outputs": [
        {
          "output_type": "display_data",
          "data": {
            "text/plain": [
              "<Figure size 1200x600 with 1 Axes>"
            ],
            "image/png": "[encoded data removed]"
          },
          "metadata": {}
        }
      ]
    },
    {
      "cell_type": "code",
      "source": [
        "# GRAPH VIEW\n",
        "\n",
        "plt.rcParams['figure.figsize'] = (12.0, 6.0)  # WIDTH x HEIGHT\n",
        "\n",
        "plt.plot(history.history['mae']) # DATA\n",
        "\n",
        "plt.legend(['Absolute Loss'], loc = 'upper right', fontsize = 'x-large')\n",
        "plt.xlabel('Processing Epochs', fontsize = 16)\n",
        "plt.ylabel('Value', fontsize=16)\n",
        "plt.title('Average Loss Rate', fontsize=18)\n",
        "\n",
        "plt.show()"
      ],
      "metadata": {
        "colab": {
          "base_uri": "https://localhost:8080/",
          "height": 474
        },
        "id": "5mp1hU8tN5TB",
        "outputId": "e3cf4028-efa2-4947-a7a1-2e25b3bc4db6"
      },
      "execution_count": 27,
      "outputs": [
        {
          "output_type": "display_data",
          "data": {
            "text/plain": [
              "<Figure size 1200x600 with 1 Axes>"
            ],
            "image/png": "[encoded data removed]"
          },
          "metadata": {}
        }
      ]
    },
    {
      "cell_type": "code",
      "source": [
        "# USE MODEL IN PRODUCTION\n",
        "# SIMULATE THAT A CUSTOMER HAS PASSED IN THE DATA OF A HOUSE AND EXPECTS TO RECEIVE THE CORRECT PRICE\n",
        "# THE LAST CALCULATIONS WERE A TEST TO CALCULATE THE ACCURATE MODEL\n",
        "# THIS IS A REAL SCENARIO SIMULATION\n",
        "\n",
        "x_new = x_test[:10]            # INSERT DATA | HOUSE DATA\n",
        "y_pred = model.predict(x_new)  # CALCULATE BOSTON HOUSE PRICE\n"
      ],
      "metadata": {
        "colab": {
          "base_uri": "https://localhost:8080/"
        },
        "id": "aSM1Ba8rPUtb",
        "outputId": "d86baf14-a56d-4980-b92d-72496ddc96e7"
      },
      "execution_count": 28,
      "outputs": [
        {
          "output_type": "stream",
          "name": "stdout",
          "text": [
            "1/1 [==============================] - 0s 136ms/step\n"
          ]
        }
      ]
    },
    {
      "cell_type": "code",
      "source": [
        "# RESULT | 1.0 -> $1000,00\n",
        "\n",
        "print(y_pred[0])"
      ],
      "metadata": {
        "colab": {
          "base_uri": "https://localhost:8080/"
        },
        "id": "fkrrI6NaP_5T",
        "outputId": "18f0f9ac-4966-4a74-c39f-2ce48588d5d5"
      },
      "execution_count": 29,
      "outputs": [
        {
          "output_type": "stream",
          "name": "stdout",
          "text": [
            "[8.349829]\n"
          ]
        }
      ]
    },
    {
      "cell_type": "code",
      "source": [
        "\n",
        "# SAVE MY MODEL\n",
        "\n",
        "model.save('/content/drive/MyDrive/Colab Notebooks/regressor.h5')\n",
        "model.save_weights('/content/drive/MyDrive/Colab Notebooks/regressor_weights.h5')\n"
      ],
      "metadata": {
        "colab": {
          "base_uri": "https://localhost:8080/"
        },
        "id": "GErbxnZiQ5Ol",
        "outputId": "bf4fb0cb-ca68-432e-d097-9cd4fabda89d"
      },
      "execution_count": 30,
      "outputs": [
        {
          "output_type": "stream",
          "name": "stderr",
          "text": [
            "/usr/local/lib/python3.10/dist-packages/keras/src/engine/training.py:3103: UserWarning: You are saving your model as an HDF5 file via `model.save()`. This file format is considered legacy. We recommend using instead the native Keras format, e.g. `model.save('my_model.keras')`.\n",
            "  saving_api.save_model(\n"
          ]
        }
      ]
    },
    {
      "cell_type": "code",
      "source": [
        "\n",
        "# RECREATE MY MODEL TO USE AGAIN IN OTHER PLACE\n",
        "\n",
        "model = Sequential()\n",
        "model = tf.keras.models.load_model('/content/drive/MyDrive/Colab Notebooks/regressor.h5')\n",
        "model.load_weights('/content/drive/MyDrive/Colab Notebooks/regressor_weights.h5')\n",
        "\n",
        "#new_sample = '/content/drive/MyDrive/file.ext'\n",
        "#test_result = model.predict(new_sample)\n",
        "\n",
        "#print(test_result)"
      ],
      "metadata": {
        "id": "iRz5W-OHQ_tc"
      },
      "execution_count": 32,
      "outputs": []
    }
  ]
}
